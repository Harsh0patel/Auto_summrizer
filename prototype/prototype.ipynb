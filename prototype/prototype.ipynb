{
 "cells": [
  {
   "cell_type": "code",
   "execution_count": 1,
   "id": "5da5f2c2",
   "metadata": {},
   "outputs": [],
   "source": [
    "import pandas as pd\n",
    "\n",
    "df = pd.read_json('ai_summarization_100.jsonl', lines = True)\n",
    "df_text = df['text']\n",
    "df_summary = df['summary']\n",
    "df_text = pd.DataFrame(df_text)\n",
    "df_summary = pd.DataFrame(df_summary)"
   ]
  },
  {
   "cell_type": "code",
   "execution_count": 2,
   "id": "0e164b8f",
   "metadata": {},
   "outputs": [],
   "source": [
    "import sentencepiece as spm\n",
    "spm.SentencePieceTrainer.Train(input = 'ai_summarization_100.jsonl', model_prefix = 'bpe', vocab_size = 200)"
   ]
  },
  {
   "cell_type": "code",
   "execution_count": 3,
   "id": "d98231ef",
   "metadata": {},
   "outputs": [],
   "source": [
    "sp = spm.SentencePieceProcessor(model_file = 'bpe.model')"
   ]
  },
  {
   "cell_type": "code",
   "execution_count": 4,
   "id": "976ffe0c",
   "metadata": {},
   "outputs": [],
   "source": [
    "text_tokens = []\n",
    "summary_tokens = []\n",
    "\n",
    "for i in range(len(df_text)):\n",
    "    token = sp.Encode(str(df.iloc[i]['text']), out_type = int)\n",
    "    text_tokens.append(token)\n",
    "\n",
    "for i in range(len(df_summary)):\n",
    "    token = sp.Encode(str(df.iloc[i]['summary']), out_type = int)\n",
    "    summary_tokens.append(token)"
   ]
  },
  {
   "cell_type": "code",
   "execution_count": 5,
   "id": "3d7d10a8",
   "metadata": {},
   "outputs": [
    {
     "data": {
      "text/plain": [
       "52"
      ]
     },
     "execution_count": 5,
     "metadata": {},
     "output_type": "execute_result"
    }
   ],
   "source": [
    "lengths = [len(i) for i in text_tokens]\n",
    "max_len = max(lengths)\n",
    "max_len"
   ]
  },
  {
   "cell_type": "code",
   "execution_count": 6,
   "id": "683d47d8",
   "metadata": {},
   "outputs": [
    {
     "data": {
      "text/plain": [
       "18"
      ]
     },
     "execution_count": 6,
     "metadata": {},
     "output_type": "execute_result"
    }
   ],
   "source": [
    "lengths = [len(i) for i in summary_tokens]\n",
    "max_len = max(lengths)\n",
    "max_len"
   ]
  },
  {
   "cell_type": "code",
   "execution_count": 7,
   "id": "a7f6b574",
   "metadata": {},
   "outputs": [
    {
     "name": "stdout",
     "output_type": "stream",
     "text": [
      "Using cuda device\n"
     ]
    }
   ],
   "source": [
    "import os\n",
    "import torch\n",
    "from torch import nn\n",
    "from torch.nn import Embedding, LSTM\n",
    "from torch.utils.data import DataLoader, Dataset\n",
    "from torch.nn.utils.rnn import pad_sequence\n",
    "from sklearn.model_selection import train_test_split\n",
    "\n",
    "device = \"cuda\" if torch.cuda.is_available() else \"cpu\"\n",
    "print(f\"Using {device} device\")"
   ]
  },
  {
   "cell_type": "code",
   "execution_count": 8,
   "id": "0fabe6b5",
   "metadata": {},
   "outputs": [],
   "source": [
    "from sklearn.model_selection import train_test_split\n",
    "\n",
    "x_train, x_test, y_train, y_test = train_test_split(text_tokens, summary_tokens, train_size = 0.9, random_state = 42)"
   ]
  },
  {
   "cell_type": "code",
   "execution_count": 9,
   "id": "6ed8133d",
   "metadata": {},
   "outputs": [],
   "source": [
    "# making tensors\n",
    "class d(Dataset):\n",
    "    def __init__(self, input, target):\n",
    "        self.input = input\n",
    "        self.target = target\n",
    "\n",
    "    def __len__(self):\n",
    "        return len(self.input)\n",
    "\n",
    "    def __getitem__(self, idx):\n",
    "\n",
    "        return {\n",
    "            \"input_ids\":torch.tensor(self.input[idx], dtype = torch.long),\n",
    "            \"target_ids\":torch.tensor(self.target[idx], dtype = torch.long)\n",
    "        }\n",
    "\n",
    "# padding sequences \n",
    "def collate_fn(batch):\n",
    "    inputs = [i[\"input_ids\"] for i in batch]\n",
    "    targets = [i[\"target_ids\"] for i in batch]\n",
    "\n",
    "    inputs_with_padding = pad_sequence(inputs, batch_first = True, padding_value = 0)\n",
    "    targets_with_padding = pad_sequence(targets, batch_first = True, padding_value = 0)\n",
    "\n",
    "    return {\n",
    "        \"input_ids\":inputs_with_padding,\n",
    "        \"target_ids\":targets_with_padding\n",
    "    }\n",
    "\n",
    "\n",
    "# Dataloader for train and test in network\n",
    "train_dataset = d(x_train, y_train)\n",
    "test_dataset = d(x_test, y_test)\n",
    "\n",
    "train_loader = DataLoader(train_dataset, batch_size = 12, shuffle = True, collate_fn = collate_fn)\n",
    "test_loader = DataLoader(test_dataset, batch_size = 2, shuffle = True, collate_fn = collate_fn)"
   ]
  },
  {
   "cell_type": "code",
   "execution_count": 10,
   "id": "da966623",
   "metadata": {},
   "outputs": [],
   "source": [
    "# Encoder class\n",
    "class Encoderlstm(torch.nn.Module):\n",
    "    def __init__(self, vocab_size, embedding_dim, hidden_size):\n",
    "        super().__init__()\n",
    "        self.x1 = nn.Embedding(num_embeddings = vocab_size, embedding_dim = embedding_dim)\n",
    "        self.x2 = nn.LSTM(input_size = embedding_dim, hidden_size = hidden_size, batch_first = True)\n",
    "\n",
    "    def ForwardEncode(self, input_ids):\n",
    "        x = self.x1(input_ids)\n",
    "        outputs, (h, c) = self.x2(x)\n",
    "        return outputs, (h, c)\n",
    "    \n",
    "#Decoder class\n",
    "class decoderlstm(torch.nn.Module):\n",
    "    def __init__(self, vocab_size, embadding_dim, hidden_size):\n",
    "        super().__init__()\n",
    "        self.x1 = nn.Embedding(num_embeddings = vocab_size, embedding_dim = embadding_dim)\n",
    "        self.x2 = nn.LSTM(input_size = embadding_dim, hidden_size = hidden_size, batch_first = True)\n",
    "        self.x3 = nn.Linear(hidden_size, vocab_size)\n",
    "\n",
    "    def ForwordDecode(self, input_ids, encoder_hidden):\n",
    "        a = self.x1(input_ids)\n",
    "        b, _ = self.x2(a, encoder_hidden)\n",
    "        c = self.x3(b)\n",
    "        return c"
   ]
  },
  {
   "cell_type": "code",
   "execution_count": 11,
   "id": "63e5a33f",
   "metadata": {},
   "outputs": [],
   "source": [
    "# Trainer\n",
    "\n",
    "class Seq2SeqTrainer:\n",
    "    def __init__(self, encoder, decoder, optimizer, loss_fn, device):\n",
    "        self.encoder = encoder\n",
    "        self.decoder = decoder\n",
    "        self.optimizer = optimizer\n",
    "        self.loss_fn = loss_fn\n",
    "        self.device = device\n",
    "\n",
    "    def train(self, dataloader, epochs=5, teacher_forcing_ratio=0.5):\n",
    "        self.encoder.train()\n",
    "        self.decoder.train()\n",
    "\n",
    "        for epoch in range(epochs):\n",
    "            total_loss = 0\n",
    "            for batch in dataloader:\n",
    "                input_ids = batch[\"input_ids\"].to(self.device)       # (B, src_len)\n",
    "                target_ids = batch[\"target_ids\"].to(self.device)     # (B, tgt_len)\n",
    "\n",
    "                batch_size, tgt_len = target_ids.shape\n",
    "                vocab_size = self.decoder.x3.out_features\n",
    "\n",
    "                # 1. Encode source\n",
    "                _, hidden = self.encoder.ForwardEncode(input_ids)\n",
    "\n",
    "                # 2. Prepare decoder input\n",
    "                decoder_input = target_ids[:, 0].unsqueeze(1)  # (B, 1)\n",
    "                decoder_hidden = hidden\n",
    "\n",
    "                outputs = torch.zeros(batch_size, tgt_len, vocab_size).to(self.device)\n",
    "\n",
    "                for t in range(1, tgt_len):\n",
    "                    decoder_output = self.decoder.ForwordDecode(decoder_input, decoder_hidden)\n",
    "                    decoder_hidden = decoder_output[1] if isinstance(decoder_output, tuple) else decoder_hidden\n",
    "                    logits = decoder_output[:, -1, :] if decoder_output.dim() == 3 else decoder_output\n",
    "\n",
    "                    outputs[:, t] = logits\n",
    "\n",
    "                    teacher_force = torch.rand(1).item() < teacher_forcing_ratio\n",
    "                    top1 = logits.argmax(1).unsqueeze(1)  # (B, 1)\n",
    "\n",
    "                    decoder_input = target_ids[:, t].unsqueeze(1) if teacher_force else top1\n",
    "\n",
    "                # 3. Compute loss\n",
    "                loss = self.loss_fn(outputs[:, 1:].reshape(-1, vocab_size),\n",
    "                                    target_ids[:, 1:].reshape(-1))\n",
    "\n",
    "                # 4. Backward & optimize\n",
    "                self.optimizer.zero_grad()\n",
    "                loss.backward()\n",
    "                self.optimizer.step()\n",
    "\n",
    "                total_loss += loss.item()\n",
    "\n",
    "            print(f\"Epoch [{epoch+1}/{epochs}] Loss: {total_loss/len(dataloader):.4f}\")\n"
   ]
  },
  {
   "cell_type": "code",
   "execution_count": 12,
   "id": "f8dced7e",
   "metadata": {},
   "outputs": [],
   "source": [
    "encoder = Encoderlstm(200, 32, 64).to(device)\n",
    "decoder = decoderlstm(200, 32, 64).to(device)\n",
    "optimizer = torch.optim.Adam(list(encoder.parameters()) + list(decoder.parameters()))\n",
    "loss = nn.CrossEntropyLoss(ignore_index = 0)\n",
    "trainer = Seq2SeqTrainer(encoder, decoder, optimizer, loss, device)"
   ]
  },
  {
   "cell_type": "code",
   "execution_count": 15,
   "id": "e9441cad",
   "metadata": {},
   "outputs": [
    {
     "name": "stdout",
     "output_type": "stream",
     "text": [
      "Epoch [1/100] Loss: 2.2644\n",
      "Epoch [2/100] Loss: 2.1440\n",
      "Epoch [3/100] Loss: 2.0125\n",
      "Epoch [4/100] Loss: 1.9103\n",
      "Epoch [5/100] Loss: 2.0158\n",
      "Epoch [6/100] Loss: 2.0502\n",
      "Epoch [7/100] Loss: 1.9316\n",
      "Epoch [8/100] Loss: 1.9201\n",
      "Epoch [9/100] Loss: 1.9996\n",
      "Epoch [10/100] Loss: 2.0263\n",
      "Epoch [11/100] Loss: 1.8915\n",
      "Epoch [12/100] Loss: 2.1849\n",
      "Epoch [13/100] Loss: 1.8322\n",
      "Epoch [14/100] Loss: 2.1693\n",
      "Epoch [15/100] Loss: 1.8464\n",
      "Epoch [16/100] Loss: 1.8759\n",
      "Epoch [17/100] Loss: 1.9110\n",
      "Epoch [18/100] Loss: 1.7543\n",
      "Epoch [19/100] Loss: 1.8916\n",
      "Epoch [20/100] Loss: 1.9119\n",
      "Epoch [21/100] Loss: 1.7954\n",
      "Epoch [22/100] Loss: 1.8022\n",
      "Epoch [23/100] Loss: 1.6983\n",
      "Epoch [24/100] Loss: 1.8077\n",
      "Epoch [25/100] Loss: 1.6991\n",
      "Epoch [26/100] Loss: 1.8773\n",
      "Epoch [27/100] Loss: 1.8627\n",
      "Epoch [28/100] Loss: 1.9607\n",
      "Epoch [29/100] Loss: 1.6203\n",
      "Epoch [30/100] Loss: 1.6078\n",
      "Epoch [31/100] Loss: 1.7778\n",
      "Epoch [32/100] Loss: 1.7165\n",
      "Epoch [33/100] Loss: 1.6573\n",
      "Epoch [34/100] Loss: 1.8059\n",
      "Epoch [35/100] Loss: 1.6529\n",
      "Epoch [36/100] Loss: 1.6388\n",
      "Epoch [37/100] Loss: 1.6796\n",
      "Epoch [38/100] Loss: 1.6788\n",
      "Epoch [39/100] Loss: 1.7799\n",
      "Epoch [40/100] Loss: 1.7799\n",
      "Epoch [41/100] Loss: 1.6255\n",
      "Epoch [42/100] Loss: 1.7203\n",
      "Epoch [43/100] Loss: 1.6665\n",
      "Epoch [44/100] Loss: 1.7600\n",
      "Epoch [45/100] Loss: 1.6684\n",
      "Epoch [46/100] Loss: 1.7213\n",
      "Epoch [47/100] Loss: 1.6870\n",
      "Epoch [48/100] Loss: 1.8462\n",
      "Epoch [49/100] Loss: 1.6127\n",
      "Epoch [50/100] Loss: 1.4919\n",
      "Epoch [51/100] Loss: 1.6627\n",
      "Epoch [52/100] Loss: 1.8227\n",
      "Epoch [53/100] Loss: 1.6990\n",
      "Epoch [54/100] Loss: 1.6213\n",
      "Epoch [55/100] Loss: 1.7257\n",
      "Epoch [56/100] Loss: 1.8915\n",
      "Epoch [57/100] Loss: 1.6334\n",
      "Epoch [58/100] Loss: 1.4799\n",
      "Epoch [59/100] Loss: 1.6162\n",
      "Epoch [60/100] Loss: 1.5167\n",
      "Epoch [61/100] Loss: 1.8610\n",
      "Epoch [62/100] Loss: 2.0094\n",
      "Epoch [63/100] Loss: 2.0787\n",
      "Epoch [64/100] Loss: 1.7848\n",
      "Epoch [65/100] Loss: 1.9550\n",
      "Epoch [66/100] Loss: 1.7271\n",
      "Epoch [67/100] Loss: 1.6357\n",
      "Epoch [68/100] Loss: 1.6362\n",
      "Epoch [69/100] Loss: 1.5988\n",
      "Epoch [70/100] Loss: 1.6060\n",
      "Epoch [71/100] Loss: 1.5398\n",
      "Epoch [72/100] Loss: 1.6532\n",
      "Epoch [73/100] Loss: 1.5379\n",
      "Epoch [74/100] Loss: 1.7045\n",
      "Epoch [75/100] Loss: 1.5046\n",
      "Epoch [76/100] Loss: 1.5017\n",
      "Epoch [77/100] Loss: 1.7217\n",
      "Epoch [78/100] Loss: 1.5104\n",
      "Epoch [79/100] Loss: 1.7416\n",
      "Epoch [80/100] Loss: 1.9486\n",
      "Epoch [81/100] Loss: 1.5940\n",
      "Epoch [82/100] Loss: 1.6725\n",
      "Epoch [83/100] Loss: 1.7395\n",
      "Epoch [84/100] Loss: 2.1057\n",
      "Epoch [85/100] Loss: 1.5735\n",
      "Epoch [86/100] Loss: 1.6183\n",
      "Epoch [87/100] Loss: 1.7942\n",
      "Epoch [88/100] Loss: 1.5885\n",
      "Epoch [89/100] Loss: 1.5538\n",
      "Epoch [90/100] Loss: 1.7002\n",
      "Epoch [91/100] Loss: 1.5811\n",
      "Epoch [92/100] Loss: 1.5209\n",
      "Epoch [93/100] Loss: 1.4787\n",
      "Epoch [94/100] Loss: 1.6074\n",
      "Epoch [95/100] Loss: 1.8135\n",
      "Epoch [96/100] Loss: 1.6121\n",
      "Epoch [97/100] Loss: 1.6648\n",
      "Epoch [98/100] Loss: 1.6347\n",
      "Epoch [99/100] Loss: 1.7715\n",
      "Epoch [100/100] Loss: 1.7433\n"
     ]
    }
   ],
   "source": [
    "trainer.train(train_loader, epochs = 100, teacher_forcing_ratio = 0.5)"
   ]
  },
  {
   "cell_type": "code",
   "execution_count": 16,
   "id": "fe7eed26",
   "metadata": {},
   "outputs": [],
   "source": [
    "def generate_summary(encoder, decoder, input_ids, max_len=30, start_token=0, eos_token=None, device='cpu'):\n",
    "    encoder.eval()\n",
    "    decoder.eval()\n",
    "\n",
    "    input_ids = input_ids.to(device)\n",
    "    with torch.no_grad():\n",
    "        # Encode input\n",
    "        _, encoder_hidden = encoder.ForwardEncode(input_ids)\n",
    "\n",
    "        decoder_input = torch.tensor([[start_token]], device=device)  # start with <BOS>\n",
    "        decoder_hidden = encoder_hidden\n",
    "\n",
    "        summary_ids = [start_token]\n",
    "\n",
    "        for _ in range(max_len):\n",
    "            output = decoder.ForwordDecode(decoder_input, decoder_hidden)\n",
    "            logits = output[:, -1, :]  # take output for current step\n",
    "\n",
    "            next_token = logits.argmax(1).item()\n",
    "            summary_ids.append(next_token)\n",
    "\n",
    "            if eos_token is not None and next_token == eos_token:\n",
    "                break\n",
    "\n",
    "            decoder_input = torch.tensor([[next_token]], device=device)\n",
    "\n",
    "    return summary_ids  # token IDs to decode\n"
   ]
  },
  {
   "cell_type": "code",
   "execution_count": 18,
   "id": "b569db24",
   "metadata": {},
   "outputs": [
    {
     "name": "stdout",
     "output_type": "stream",
     "text": [
      "Generated Summary:  ⁇ s faster learning.ributions faster learning.ributions faster learning.ribution\n",
      "test Output :  Enables faster learning.\n"
     ]
    }
   ],
   "source": [
    "# Assume test_input is a tensor of shape (1, seq_len)\n",
    "test_input = torch.tensor([x_test[1]],dtype = torch.long)\n",
    "summary_ids = generate_summary(encoder, decoder, test_input, start_token=0, eos_token=1, device=device)\n",
    "\n",
    "# Decode the tokens back to text\n",
    "decoded_summary = sp.decode(summary_ids)  # or use your tokenizer's decode method\n",
    "print(\"Generated Summary:\", decoded_summary)\n",
    "print(\"test Output : \",sp.Decode(y_test[1]))"
   ]
  }
 ],
 "metadata": {
  "kernelspec": {
   "display_name": "Python 3",
   "language": "python",
   "name": "python3"
  },
  "language_info": {
   "codemirror_mode": {
    "name": "ipython",
    "version": 3
   },
   "file_extension": ".py",
   "mimetype": "text/x-python",
   "name": "python",
   "nbconvert_exporter": "python",
   "pygments_lexer": "ipython3",
   "version": "3.11.9"
  }
 },
 "nbformat": 4,
 "nbformat_minor": 5
}
