{
 "cells": [
  {
   "cell_type": "code",
   "execution_count": null,
   "id": "39596603",
   "metadata": {},
   "outputs": [],
   "source": [
    "import whisper\n",
    "\n",
    "model = whisper.load_model(\"tiny\")\n",
    "result = model.transcribe('harvard.wav')\n",
    "text = result[\"text\"]\n",
    "print(text)"
   ]
  },
  {
   "cell_type": "code",
   "execution_count": null,
   "id": "3ca04c7f",
   "metadata": {},
   "outputs": [],
   "source": [
    "import torch\n",
    "from transformers import AutoTokenizer, AutoModelForSeq2SeqLM\n",
    "\n",
    "model = \"google/long-t5-tglobal-base\"\n",
    "device = torch.device(\"cpu\")\n",
    "tokenizer = AutoTokenizer.from_pretrained(model)\n",
    "model = AutoModelForSeq2SeqLM.from_pretrained(model).to(\"cuda\")\n",
    "text = \"summarize: \" + text\n",
    "inputs = tokenizer(text, return_tensors=\"pt\", max_length=4096, truncation=True).to(\"cuda\")\n",
    "\n",
    "summary_ids = model.generate(inputs[\"input_ids\"], max_length=256, num_beams=4, early_stopping=True)\n",
    "summary = tokenizer.decode(summary_ids[0], skip_special_tokens=True)\n",
    "print(summary)"
   ]
  },
  {
   "cell_type": "code",
   "execution_count": 1,
   "id": "7467cc1f",
   "metadata": {},
   "outputs": [
    {
     "name": "stderr",
     "output_type": "stream",
     "text": [
      "c:\\Users\\hp333\\Desktop\\Auto_summrizer\\myenv\\Lib\\site-packages\\tqdm\\auto.py:21: TqdmWarning: IProgress not found. Please update jupyter and ipywidgets. See https://ipywidgets.readthedocs.io/en/stable/user_install.html\n",
      "  from .autonotebook import tqdm as notebook_tqdm\n"
     ]
    },
    {
     "name": "stdout",
     "output_type": "stream",
     "text": [
      "મુંબઈના અડધા જેટલા રહેવાસીઓ વસ્તીના ઝોનમાં રહે છે. આશરે એક મિલિયન લોકો એશિયાના સૌથી મોટા ઝોનમાં રહે છે.\n"
     ]
    }
   ],
   "source": [
    "from transformers import AutoTokenizer, AutoModelForSeq2SeqLM\n",
    "\n",
    "# Load model and tokenizer\n",
    "lang_model = \"facebook/nllb-200-distilled-600M\"  # or your specific model\n",
    "lang_tokenizer = AutoTokenizer.from_pretrained(lang_model)\n",
    "lang_model = AutoModelForSeq2SeqLM.from_pretrained(lang_model)\n",
    "\n",
    "# Your text\n",
    "text = \"Up to half of mumbai' residents live in slums, about million in the shacks of dharavi, the biggest slum in asia.\"\n",
    "inputs = lang_tokenizer(text, return_tensors=\"pt\")\n",
    "target_lang = \"fra_Latn\"  # French\n",
    "forced_bos_token_id=lang_tokenizer.convert_tokens_to_ids(\"guj_Gujr\")\n",
    "\n",
    "# Generate translation\n",
    "translated = lang_model.generate(\n",
    "    **inputs,\n",
    "    forced_bos_token_id=forced_bos_token_id,\n",
    ")\n",
    "\n",
    "print(lang_tokenizer.decode(translated[0], skip_special_tokens=True))"
   ]
  }
 ],
 "metadata": {
  "kernelspec": {
   "display_name": "myenv",
   "language": "python",
   "name": "python3"
  },
  "language_info": {
   "codemirror_mode": {
    "name": "ipython",
    "version": 3
   },
   "file_extension": ".py",
   "mimetype": "text/x-python",
   "name": "python",
   "nbconvert_exporter": "python",
   "pygments_lexer": "ipython3",
   "version": "3.11.9"
  }
 },
 "nbformat": 4,
 "nbformat_minor": 5
}
