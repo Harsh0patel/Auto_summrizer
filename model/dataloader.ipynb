{
 "cells": [
  {
   "cell_type": "code",
   "execution_count": 1,
   "id": "c1dcac70",
   "metadata": {},
   "outputs": [
    {
     "name": "stderr",
     "output_type": "stream",
     "text": [
      "C:\\Users\\hp333\\AppData\\Roaming\\Python\\Python311\\site-packages\\tqdm\\auto.py:21: TqdmWarning: IProgress not found. Please update jupyter and ipywidgets. See https://ipywidgets.readthedocs.io/en/stable/user_install.html\n",
      "  from .autonotebook import tqdm as notebook_tqdm\n"
     ]
    }
   ],
   "source": [
    "from datasets import load_dataset\n",
    "\n",
    "ds = load_dataset(\"abisee/cnn_dailymail\", \"3.0.0\")"
   ]
  },
  {
   "cell_type": "code",
   "execution_count": 2,
   "id": "1764fcd5",
   "metadata": {},
   "outputs": [
    {
     "data": {
      "text/plain": [
       "DatasetDict({\n",
       "    train: Dataset({\n",
       "        features: ['article', 'highlights', 'id'],\n",
       "        num_rows: 287113\n",
       "    })\n",
       "    validation: Dataset({\n",
       "        features: ['article', 'highlights', 'id'],\n",
       "        num_rows: 13368\n",
       "    })\n",
       "    test: Dataset({\n",
       "        features: ['article', 'highlights', 'id'],\n",
       "        num_rows: 11490\n",
       "    })\n",
       "})"
      ]
     },
     "execution_count": 2,
     "metadata": {},
     "output_type": "execute_result"
    }
   ],
   "source": [
    "ds"
   ]
  },
  {
   "cell_type": "code",
   "execution_count": 5,
   "id": "69ad1671",
   "metadata": {},
   "outputs": [
    {
     "name": "stderr",
     "output_type": "stream",
     "text": [
      "Creating json from Arrow format: 100%|██████████| 12/12 [00:00<00:00, 15.78ba/s]\n"
     ]
    },
    {
     "data": {
      "text/plain": [
       "50620522"
      ]
     },
     "execution_count": 5,
     "metadata": {},
     "output_type": "execute_result"
    }
   ],
   "source": [
    "sub_ds = ds['test']\n",
    "sub_ds.to_json('General_text_text.jsonl',orient = 'records', lines = True)"
   ]
  },
  {
   "cell_type": "code",
   "execution_count": 3,
   "id": "fe48d4e3",
   "metadata": {},
   "outputs": [
    {
     "name": "stderr",
     "output_type": "stream",
     "text": [
      "Creating json from Arrow format:   0%|          | 0/20 [00:00<?, ?ba/s]"
     ]
    },
    {
     "name": "stderr",
     "output_type": "stream",
     "text": [
      "Creating json from Arrow format: 100%|██████████| 20/20 [00:00<00:00, 22.17ba/s]\n",
      "Creating json from Arrow format: 100%|██████████| 20/20 [00:01<00:00, 18.51ba/s]\n",
      "Creating json from Arrow format: 100%|██████████| 20/20 [00:01<00:00, 18.23ba/s]\n",
      "Creating json from Arrow format: 100%|██████████| 20/20 [00:01<00:00, 16.89ba/s]\n",
      "Creating json from Arrow format: 100%|██████████| 20/20 [00:01<00:00, 15.35ba/s]\n",
      "Creating json from Arrow format: 100%|██████████| 20/20 [00:01<00:00, 15.50ba/s]\n",
      "Creating json from Arrow format: 100%|██████████| 20/20 [00:01<00:00, 17.14ba/s]\n",
      "Creating json from Arrow format: 100%|██████████| 20/20 [00:01<00:00, 17.34ba/s]\n",
      "Creating json from Arrow format: 100%|██████████| 20/20 [00:01<00:00, 16.56ba/s]\n",
      "Creating json from Arrow format: 100%|██████████| 20/20 [00:01<00:00, 19.58ba/s]\n",
      "Creating json from Arrow format: 100%|██████████| 20/20 [00:01<00:00, 18.54ba/s]\n",
      "Creating json from Arrow format: 100%|██████████| 20/20 [00:01<00:00, 17.41ba/s]\n",
      "Creating json from Arrow format: 100%|██████████| 20/20 [00:01<00:00, 17.06ba/s]\n",
      "Creating json from Arrow format: 100%|██████████| 20/20 [00:01<00:00, 17.03ba/s]\n",
      "Creating json from Arrow format: 100%|██████████| 8/8 [00:00<00:00, 18.06ba/s]\n"
     ]
    }
   ],
   "source": [
    "chunk_size = 20000\n",
    "for i in range(0, ds['train'].num_rows, chunk_size):\n",
    "    sub_ds = ds['train'].select(range(i, min(i + chunk_size, ds['train'].num_rows)))\n",
    "    sub_ds.to_json(f'General_train_text_chunk_{i//chunk_size + 1}.jsonl', orient = 'records', lines = True)\n"
   ]
  }
 ],
 "metadata": {
  "kernelspec": {
   "display_name": "Python 3",
   "language": "python",
   "name": "python3"
  },
  "language_info": {
   "codemirror_mode": {
    "name": "ipython",
    "version": 3
   },
   "file_extension": ".py",
   "mimetype": "text/x-python",
   "name": "python",
   "nbconvert_exporter": "python",
   "pygments_lexer": "ipython3",
   "version": "3.11.9"
  }
 },
 "nbformat": 4,
 "nbformat_minor": 5
}
